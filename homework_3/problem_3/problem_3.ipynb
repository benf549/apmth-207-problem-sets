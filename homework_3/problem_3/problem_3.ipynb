{
 "cells": [
  {
   "cell_type": "code",
   "execution_count": 1,
   "id": "ecb30ab5-5f3e-4e8b-ba7a-72362a703da7",
   "metadata": {},
   "outputs": [],
   "source": [
    "import numpy as np\n",
    "import matplotlib.pyplot as plt\n",
    "import math\n",
    "import random\n",
    "import scipy.linalg\n",
    "\n",
    "from lj import *"
   ]
  },
  {
   "cell_type": "code",
   "execution_count": 2,
   "id": "1b124817-3d09-479b-8c3d-15f2a458c025",
   "metadata": {},
   "outputs": [],
   "source": [
    "coord_min = -1\n",
    "coord_max = 1\n",
    "np.random.seed(12345)\n",
    "\n",
    "def run_gradient_based_optimization(N, trials = 100):\n",
    "    \"\"\"Returns the minimum energy found over trials.\"\"\"\n",
    "    \n",
    "    min_energy = np.inf\n",
    "    min_config = None\n",
    "    \n",
    "    for t in range(trials):\n",
    "        initial_points = [np.random.uniform(coord_min, coord_max) for i in range(3*N)]\n",
    "        res = scipy.optimize.minimize(lennard_jones, initial_points, method='CG', jac=compute_jacobian)\n",
    "        \n",
    "        if res.fun < min_energy:\n",
    "            min_energy = res.fun\n",
    "            min_config = res.x\n",
    "            \n",
    "    return min_config, min_energy\n",
    "    \n",
    "def write_configuration(N, min_config, min_energy, is_grad):\n",
    "    if is_grad:\n",
    "        with open(f\"gradient_{N}.txt\", 'w') as f:\n",
    "            f.write(f\"{min_energy}\\n\")\n",
    "            f.write(f\"{np.reshape(min_config, (-1, 3))}\")\n",
    "    else:\n",
    "        with open(f\"stochastic_{N}.txt\", 'w') as f:\n",
    "            f.write(f\"{min_energy}\\n\")\n",
    "            f.write(f\"{np.reshape(min_config, (-1, 3))}\")"
   ]
  },
  {
   "cell_type": "code",
   "execution_count": 3,
   "id": "5587487e-d553-4df3-a610-0497de2aa742",
   "metadata": {},
   "outputs": [],
   "source": [
    "N = 8\n",
    "min_config, min_energy = run_gradient_based_optimization(N)\n",
    "write_configuration(N, min_config, min_energy, True)"
   ]
  },
  {
   "cell_type": "code",
   "execution_count": 4,
   "id": "7d772738-689f-4a92-b0a2-2ff427d662a1",
   "metadata": {},
   "outputs": [],
   "source": [
    "N = 16\n",
    "min_config, min_energy = run_gradient_based_optimization(N)\n",
    "write_configuration(N, min_config, min_energy, True)"
   ]
  },
  {
   "cell_type": "code",
   "execution_count": null,
   "id": "cefd3e8b-752d-481e-bed6-77c093fb2e55",
   "metadata": {},
   "outputs": [],
   "source": [
    "N = 32\n",
    "min_config, min_energy = run_gradient_based_optimization(N)\n",
    "write_configuration(N, min_config, min_energy, True)"
   ]
  },
  {
   "cell_type": "code",
   "execution_count": 23,
   "id": "e6122dd2-caaf-41a8-832d-9bd8173b7e10",
   "metadata": {},
   "outputs": [],
   "source": [
    "def cmaes(f, x, sigma, g_max, Trace=False):\n",
    "\tdef cumulation(c, A, B):\n",
    "\t\talpha = 1 - c\n",
    "\t\tbeta = math.sqrt(c * (2 - c) * mueff)\n",
    "\t\treturn [alpha * a + beta * b for a, b in zip(A, B)]\n",
    "\n",
    "\tdef wsum(A):\n",
    "\t\treturn [\n",
    "\t\t    math.fsum(w * a[i] for w, a in zip(weights, A)) for i in range(N)\n",
    "\t\t]\n",
    "\n",
    "\txmean, N = x[:], len(x)\n",
    "\tlambd = 4 + int(3 * math.log(N))\n",
    "\tmu = lambd // 2\n",
    "\tweights = [math.log((lambd + 1) / 2) - math.log(i + 1) for i in range(mu)]\n",
    "\tweights = [e / math.fsum(weights) for e in weights]\n",
    "\tmueff = 1 / math.fsum(e**2 for e in weights)\n",
    "\tcc = (4 + mueff / N) / (N + 4 + 2 * mueff / N)\n",
    "\tcs = (mueff + 2) / (N + mueff + 5)\n",
    "\tc1 = 2 / ((N + 1.3)**2 + mueff)\n",
    "\tcmu = min(1 - c1, 2 * (mueff - 2 + 1 / mueff) / ((N + 2)**2 + mueff))\n",
    "\tdamps = 1 + 2 * max(0, math.sqrt((mueff - 1) / (N + 1)) - 1) + cs\n",
    "\tchiN = math.sqrt(2) * math.gamma((N + 1) / 2) / math.gamma(N / 2)\n",
    "\tps, pc, C = [0] * N, [0] * N, np.identity(N)\n",
    "\ttrace = []\n",
    "\tfor gen in range(1, g_max + 1):\n",
    "\t\tsqrtC = np.real(scipy.linalg.sqrtm(C))\n",
    "\t\tx0 = [[random.gauss(0, 1) for d in range(N)] for i in range(lambd)]\n",
    "\t\tx1 = [sqrtC @ e for e in x0]\n",
    "\t\txs = [xmean + sigma * e for e in x1]\n",
    "\t\tys = [f(e) for e in xs]\n",
    "\t\tys, x0, x1, xs = zip(*sorted(zip(ys, x0, x1, xs)))\n",
    "\t\txmean = wsum(xs)\n",
    "\t\tps = cumulation(cs, ps, wsum(x0))\n",
    "\t\tpssq = math.fsum(e**2 for e in ps)\n",
    "\t\tsigma *= math.exp(cs / damps * (math.sqrt(pssq) / chiN - 1))\n",
    "\t\tCmu = sum(w * np.outer(d, d) for w, d in zip(weights, x1))\n",
    "\t\tif (N + 1) * pssq < 2 * N * (N + 3) * (1 - (1 - cs)**(2 * gen)):\n",
    "\t\t\tpc = cumulation(cc, pc, wsum(x1))\n",
    "\t\t\tC1 = np.outer(pc, pc)\n",
    "\t\t\tC = (1 - c1 - cmu) * C + c1 * C1 + cmu * Cmu\n",
    "\t\telse:\n",
    "\t\t\tpc = [(1 - cc) * e for e in pc]\n",
    "\t\t\tC1 = np.outer(pc, pc)\n",
    "\t\t\tC = (1 - c1 - cmu) * C + c1 * (C1 + cc * (2 - cc) * C) + cmu * Cmu\n",
    "\t\tif Trace:\n",
    "\t\t\ttrace.append(\n",
    "\t\t\t    (gen * lambd, ys[0], xs[0], sigma, C, ps, pc, Cmu, C1, xmean))\n",
    "\treturn trace if Trace else xmean"
   ]
  },
  {
   "cell_type": "code",
   "execution_count": 67,
   "id": "a1c3eac6-1638-4be4-9730-e9440823371a",
   "metadata": {},
   "outputs": [],
   "source": [
    "def run_cmaes_optimization(N, sigma, ngen=100, trials = 100, coord_min = -1, coord_max = 1):\n",
    "    \"\"\"Returns the minimum energy found over trials.\"\"\"\n",
    "    \n",
    "    min_energy = np.inf\n",
    "    min_config = None\n",
    "    \n",
    "    for t in range(trials):\n",
    "        # if t % 10 == 0 or t == trials - 1:\n",
    "        print(t)\n",
    "        initial_points = [np.random.uniform(coord_min, coord_max) for i in range(3*N)]\n",
    "        xs = cmaes(lennard_jones, initial_points, sigma, ngen)\n",
    "        val = lennard_jones(xs)\n",
    "        \n",
    "        if val < min_energy:\n",
    "            min_energy = val\n",
    "            min_config = xs\n",
    "            \n",
    "    return min_config, min_energy"
   ]
  },
  {
   "cell_type": "code",
   "execution_count": 59,
   "id": "9c72a7e8-7800-468f-bbd4-6c1b38e00cc9",
   "metadata": {},
   "outputs": [
    {
     "name": "stdout",
     "output_type": "stream",
     "text": [
      "0\n",
      "10\n",
      "20\n",
      "30\n",
      "40\n",
      "49\n",
      "-19.821489192154758\n"
     ]
    }
   ],
   "source": [
    "N = 8\n",
    "sigma = 0.1\n",
    "ngen = 500\n",
    "min_config, min_energy = run_cmaes_optimization(N, sigma, ngen, trials = 50)\n",
    "print(min_energy)\n",
    "write_configuration(N, min_config, min_energy, False)"
   ]
  },
  {
   "cell_type": "code",
   "execution_count": 60,
   "id": "6ee593f9-0405-4232-922b-af197a425595",
   "metadata": {},
   "outputs": [
    {
     "name": "stdout",
     "output_type": "stream",
     "text": [
      "0\n",
      "10\n",
      "20\n",
      "30\n",
      "40\n",
      "49\n",
      "-55.84871994671202\n"
     ]
    }
   ],
   "source": [
    "N = 16\n",
    "sigma = 0.05\n",
    "ngen = 500\n",
    "min_config, min_energy = run_cmaes_optimization(N, sigma, ngen, trials = 50)\n",
    "print(min_energy)\n",
    "write_configuration(N, min_config, min_energy, False)"
   ]
  },
  {
   "cell_type": "code",
   "execution_count": 68,
   "id": "7275e896-4882-4dba-a54e-4359c451cd11",
   "metadata": {},
   "outputs": [
    {
     "name": "stdout",
     "output_type": "stream",
     "text": [
      "0\n",
      "1\n",
      "2\n",
      "3\n",
      "4\n",
      "5\n",
      "6\n",
      "7\n",
      "8\n",
      "9\n",
      "-122.13671470633275\n"
     ]
    }
   ],
   "source": [
    "N = 32\n",
    "sigma = 0.1\n",
    "ngen = 500\n",
    "min_config, min_energy = run_cmaes_optimization(N, sigma, ngen, trials = 10, coord_min=-1, coord_max=1)\n",
    "print(min_energy)\n",
    "write_configuration(N, min_config, min_energy, False)"
   ]
  },
  {
   "cell_type": "code",
   "execution_count": 70,
   "id": "47d6d32f-b61b-4e2d-9840-2f136efde7c8",
   "metadata": {},
   "outputs": [],
   "source": [
    "N = 38\n",
    "min_config, min_energy = run_gradient_based_optimization(N)\n",
    "write_configuration(N, min_config, min_energy, True)"
   ]
  },
  {
   "cell_type": "code",
   "execution_count": 69,
   "id": "0ed202d0-f086-443f-8077-1644cebd2dc8",
   "metadata": {},
   "outputs": [
    {
     "name": "stdout",
     "output_type": "stream",
     "text": [
      "0\n",
      "-142.26336234039837\n"
     ]
    }
   ],
   "source": [
    "N = 38\n",
    "sigma = 0.1\n",
    "ngen = 500\n",
    "min_config, min_energy = run_cmaes_optimization(N, sigma, ngen, trials = 1, coord_min=-1.5, coord_max=1.5)\n",
    "print(min_energy)\n",
    "write_configuration(N, min_config, min_energy, False)"
   ]
  },
  {
   "cell_type": "code",
   "execution_count": null,
   "id": "009e016f-44ab-4b55-89c4-df0f7c0df6d0",
   "metadata": {},
   "outputs": [],
   "source": []
  }
 ],
 "metadata": {
  "kernelspec": {
   "display_name": "Python 3 (ipykernel)",
   "language": "python",
   "name": "python3"
  },
  "language_info": {
   "codemirror_mode": {
    "name": "ipython",
    "version": 3
   },
   "file_extension": ".py",
   "mimetype": "text/x-python",
   "name": "python",
   "nbconvert_exporter": "python",
   "pygments_lexer": "ipython3",
   "version": "3.9.12"
  }
 },
 "nbformat": 4,
 "nbformat_minor": 5
}
