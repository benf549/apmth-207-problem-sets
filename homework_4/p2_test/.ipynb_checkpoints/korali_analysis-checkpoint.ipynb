{
 "cells": [
  {
   "cell_type": "code",
   "execution_count": 4,
   "id": "578e5470-0dd3-41c8-9319-42ccc55df2c9",
   "metadata": {},
   "outputs": [
    {
     "name": "stdout",
     "output_type": "stream",
     "text": [
      "/Users/benjaminfry/Code/fall_2022/apmth207/homework_4/p2\n"
     ]
    },
    {
     "data": {
      "text/plain": [
       "0"
      ]
     },
     "execution_count": 4,
     "metadata": {},
     "output_type": "execute_result"
    }
   ],
   "source": [
    "import numpy as np\n",
    "import seaborn as sns\n",
    "import matplotlib.pyplot as plt\n",
    "import pandas as pd\n",
    "import json, os"
   ]
  },
  {
   "cell_type": "code",
   "execution_count": 2,
   "id": "2c9de867-3473-4c2f-9597-1abb33449c2a",
   "metadata": {},
   "outputs": [
    {
     "ename": "KeyError",
     "evalue": "'Results'",
     "output_type": "error",
     "traceback": [
      "\u001b[0;31m---------------------------------------------------------------------------\u001b[0m",
      "\u001b[0;31mKeyError\u001b[0m                                  Traceback (most recent call last)",
      "Input \u001b[0;32mIn [2]\u001b[0m, in \u001b[0;36m<cell line: 1>\u001b[0;34m()\u001b[0m\n\u001b[1;32m      1\u001b[0m \u001b[38;5;28;01mwith\u001b[39;00m \u001b[38;5;28mopen\u001b[39m(os\u001b[38;5;241m.\u001b[39mpath\u001b[38;5;241m.\u001b[39mjoin(\u001b[38;5;124m\"\u001b[39m\u001b[38;5;124m_korali_result\u001b[39m\u001b[38;5;124m\"\u001b[39m, \u001b[38;5;124m\"\u001b[39m\u001b[38;5;124mlatest\u001b[39m\u001b[38;5;124m\"\u001b[39m), \u001b[38;5;124m\"\u001b[39m\u001b[38;5;124mr\u001b[39m\u001b[38;5;124m\"\u001b[39m) \u001b[38;5;28;01mas\u001b[39;00m f:\n\u001b[1;32m      2\u001b[0m     j \u001b[38;5;241m=\u001b[39m json\u001b[38;5;241m.\u001b[39mload(f)\n\u001b[0;32m----> 3\u001b[0m     samples \u001b[38;5;241m=\u001b[39m np\u001b[38;5;241m.\u001b[39marray(\u001b[43mj\u001b[49m\u001b[43m[\u001b[49m\u001b[38;5;124;43m\"\u001b[39;49m\u001b[38;5;124;43mResults\u001b[39;49m\u001b[38;5;124;43m\"\u001b[39;49m\u001b[43m]\u001b[49m[\u001b[38;5;124m\"\u001b[39m\u001b[38;5;124mSample Database\u001b[39m\u001b[38;5;124m\"\u001b[39m])\n\u001b[1;32m      4\u001b[0m     \u001b[38;5;66;03m# 90041\u001b[39;00m\n\u001b[1;32m      6\u001b[0m \u001b[38;5;28mprint\u001b[39m(samples)\n",
      "\u001b[0;31mKeyError\u001b[0m: 'Results'"
     ]
    }
   ],
   "source": [
    "with open(os.path.join(\"_korali_result\", \"latest\"), \"r\") as f:\n",
    "    j = json.load(f)\n",
    "    samples = np.array(j[\"Results\"][\"Sample Database\"])\n",
    "    # 90041\n",
    "\n",
    "print(samples)"
   ]
  },
  {
   "cell_type": "code",
   "execution_count": null,
   "id": "193bfb58-71da-439e-93cb-7283ebcf06da",
   "metadata": {},
   "outputs": [],
   "source": [
    "\n",
    "sns.kdeplot(x=samples[:, 0], y=samples[:, 1], color='k')\n",
    "plt.scatter(samples[:, 0], samples[:, 1], alpha=0.2, zorder=10)\n",
    "plt.legend([\"KDE contours\", \"TMCMC Samples\"], fontsize=16)\n",
    "plt.xlabel(\"a\", size=16)\n",
    "plt.xticks(size=16)\n",
    "plt.ylabel(\"b\", size=16)\n",
    "plt.yticks(size=16)\n",
    "plt.gcf().set_size_inches(20, 10)"
   ]
  },
  {
   "cell_type": "code",
   "execution_count": null,
   "id": "599a51c6-562e-48d3-a400-aa81f8124a23",
   "metadata": {},
   "outputs": [],
   "source": []
  }
 ],
 "metadata": {
  "kernelspec": {
   "display_name": "Python 3 (ipykernel)",
   "language": "python",
   "name": "python3"
  },
  "language_info": {
   "codemirror_mode": {
    "name": "ipython",
    "version": 3
   },
   "file_extension": ".py",
   "mimetype": "text/x-python",
   "name": "python",
   "nbconvert_exporter": "python",
   "pygments_lexer": "ipython3",
   "version": "3.9.12"
  }
 },
 "nbformat": 4,
 "nbformat_minor": 5
}
