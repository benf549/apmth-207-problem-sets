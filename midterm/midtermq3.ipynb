{
 "cells": [
  {
   "cell_type": "code",
   "execution_count": 1,
   "id": "b6fc811a-cbd5-4134-a200-efc4e17080a7",
   "metadata": {},
   "outputs": [],
   "source": [
    "import lj\n",
    "import numpy as np\n",
    "import matplotlib.pyplot as plt\n",
    "import scipy.stats as stat"
   ]
  },
  {
   "cell_type": "code",
   "execution_count": 3,
   "id": "7fdcfbd8-ba2e-4290-84f3-bc4fde1cbd30",
   "metadata": {},
   "outputs": [
    {
     "ename": "NameError",
     "evalue": "name 'M' is not defined",
     "output_type": "error",
     "traceback": [
      "\u001b[0;31m---------------------------------------------------------------------------\u001b[0m",
      "\u001b[0;31mNameError\u001b[0m                                 Traceback (most recent call last)",
      "Input \u001b[0;32mIn [3]\u001b[0m, in \u001b[0;36m<cell line: 62>\u001b[0;34m()\u001b[0m\n\u001b[1;32m     56\u001b[0m             \u001b[38;5;28;01mpass\u001b[39;00m\n\u001b[1;32m     59\u001b[0m     \u001b[38;5;28;01mreturn\u001b[39;00m energies, probabilities, num_rejected\n\u001b[0;32m---> 62\u001b[0m \u001b[43mrun_metropolis_hastings\u001b[49m\u001b[43m(\u001b[49m\u001b[43m)\u001b[49m\n",
      "Input \u001b[0;32mIn [3]\u001b[0m, in \u001b[0;36mrun_metropolis_hastings\u001b[0;34m()\u001b[0m\n\u001b[1;32m     49\u001b[0m         \u001b[38;5;28;01mif\u001b[39;00m M \u001b[38;5;241m>\u001b[39m \u001b[38;5;241m40_000\u001b[39m:\n\u001b[1;32m     50\u001b[0m             \u001b[38;5;66;03m# Transition Rejected\u001b[39;00m\n\u001b[1;32m     51\u001b[0m             num_rejected \u001b[38;5;241m+\u001b[39m\u001b[38;5;241m=\u001b[39m \u001b[38;5;241m1\u001b[39m\n\u001b[0;32m---> 52\u001b[0m     \u001b[38;5;28;01mif\u001b[39;00m \u001b[43mM\u001b[49m \u001b[38;5;241m>\u001b[39m \u001b[38;5;241m40_000\u001b[39m:\n\u001b[1;32m     53\u001b[0m         \u001b[38;5;66;03m# I ran out of time but if i had more time, I would record the energies for the positions \u001b[39;00m\n\u001b[1;32m     54\u001b[0m         \u001b[38;5;66;03m# collected after this point and their probabilities and from this we could collect the average\u001b[39;00m\n\u001b[1;32m     55\u001b[0m         \u001b[38;5;66;03m# energy.\u001b[39;00m\n\u001b[1;32m     56\u001b[0m         \u001b[38;5;28;01mpass\u001b[39;00m\n\u001b[1;32m     59\u001b[0m \u001b[38;5;28;01mreturn\u001b[39;00m energies, probabilities, num_rejected\n",
      "\u001b[0;31mNameError\u001b[0m: name 'M' is not defined"
     ]
    }
   ],
   "source": [
    "def gaussian_pdf(x, mu):\n",
    "    sigma = 0.05\n",
    "    C = np.eye(3)*sigma\n",
    "    return stat.multivariate_normal.pdf(x, mean=mu, cov=C)\n",
    "\n",
    "# Sample gaussian\n",
    "def propose_next_state(prev):\n",
    "    sigma = 0.05\n",
    "    C = np.eye(3)*sigma\n",
    "    return stat.multivariate_normal.rvs(mean=prev, cov=C)\n",
    "\n",
    "def boltzmann(positions):\n",
    "    energies = np.log(lj.energy(positions.flatten()))\n",
    "    return np.exp(-energies)\n",
    "\n",
    "\n",
    "\n",
    "def run_metropolis_hastings():\n",
    "    \n",
    "    N = 32\n",
    "    N_iter = 50_000 \n",
    "    num_rejected = 0\n",
    "    positions = np.random.uniform(-1, 1, (N, 3))\n",
    "\n",
    "    energies = []\n",
    "    probabilities = []\n",
    "    \n",
    "    x_n = np.array([0, 0, 0])\n",
    "    for idx in range(N_iter):\n",
    "        # Compute proposed transition\n",
    "        select_update_index = np.random.choice(range(N))\n",
    "        x_prime = propose_next_state(positions[select_update_index])\n",
    "        pcopy = [x for x in positions]\n",
    "        pcopy[select_update_index] = x_prime\n",
    "        pcopy = np.array(pcopy)\n",
    "\n",
    "        # Compute alpha\n",
    "        numerator = boltzmann(pcopy) * gaussian_pdf(positions[select_update_index], mu=x_prime)\n",
    "        denominator = boltzmann(positions) * gaussian_pdf(x_prime, mu=positions[select_update_index])\n",
    "        \n",
    "        alpha = min(1, numerator / denominator)\n",
    "\n",
    "        # Draw random number to determine if alpha accepted.\n",
    "        rand = np.random.uniform(0, 1)\n",
    "        if rand < alpha:\n",
    "            # Transition Accepted\n",
    "            x_n = x_prime \n",
    "        else:\n",
    "            if M > 40_000:\n",
    "                # Transition Rejected\n",
    "                num_rejected += 1\n",
    "        if M > 40_000:\n",
    "            # I ran out of time but if i had more time, I would record the energies for the positions \n",
    "            # collected after this point and their probabilities and from this we could collect the average\n",
    "            # energy.\n",
    "            pass\n",
    "            \n",
    "            \n",
    "    return energies, probabilities, num_rejected\n",
    "\n",
    "\n",
    "run_metropolis_hastings()"
   ]
  },
  {
   "cell_type": "code",
   "execution_count": null,
   "id": "757ec366-74fe-440d-adef-3f50984ba346",
   "metadata": {},
   "outputs": [],
   "source": [
    "def compute_average_energy(energies):\n",
    "    "
   ]
  }
 ],
 "metadata": {
  "kernelspec": {
   "display_name": "Python 3 (ipykernel)",
   "language": "python",
   "name": "python3"
  },
  "language_info": {
   "codemirror_mode": {
    "name": "ipython",
    "version": 3
   },
   "file_extension": ".py",
   "mimetype": "text/x-python",
   "name": "python",
   "nbconvert_exporter": "python",
   "pygments_lexer": "ipython3",
   "version": "3.9.12"
  }
 },
 "nbformat": 4,
 "nbformat_minor": 5
}
